{
  "nbformat": 4,
  "nbformat_minor": 0,
  "metadata": {
    "colab": {
      "provenance": []
    },
    "kernelspec": {
      "name": "python3",
      "display_name": "Python 3"
    },
    "language_info": {
      "name": "python"
    }
  },
  "cells": [
    {
      "cell_type": "code",
      "execution_count": 1,
      "metadata": {
        "colab": {
          "base_uri": "https://localhost:8080/"
        },
        "id": "-1QQhuYGftyF",
        "outputId": "ba658616-0649-4dc9-e39f-51cfc8e2299f"
      },
      "outputs": [
        {
          "output_type": "stream",
          "name": "stdout",
          "text": [
            "Hellow world\n"
          ]
        }
      ],
      "source": [
        "print('Hellow world')"
      ]
    },
    {
      "cell_type": "code",
      "source": [
        "#This is code"
      ],
      "metadata": {
        "id": "eCLsvgyUgHUu"
      },
      "execution_count": null,
      "outputs": []
    },
    {
      "cell_type": "code",
      "source": [
        "!pip install fhir.resources"
      ],
      "metadata": {
        "colab": {
          "base_uri": "https://localhost:8080/"
        },
        "id": "tSJO6lfmjs_B",
        "outputId": "63a08008-ad00-4efb-d708-e331bd76d86f"
      },
      "execution_count": 3,
      "outputs": [
        {
          "output_type": "stream",
          "name": "stdout",
          "text": [
            "Collecting fhir.resources\n",
            "  Downloading fhir.resources-7.1.0-py2.py3-none-any.whl (3.1 MB)\n",
            "\u001b[2K     \u001b[90m━━━━━━━━━━━━━━━━━━━━━━━━━━━━━━━━━━━━━━━━\u001b[0m \u001b[32m3.1/3.1 MB\u001b[0m \u001b[31m18.1 MB/s\u001b[0m eta \u001b[36m0:00:00\u001b[0m\n",
            "\u001b[?25hRequirement already satisfied: pydantic[email]<3.0,>=2.0.1 in /usr/local/lib/python3.10/dist-packages (from fhir.resources) (2.6.4)\n",
            "Requirement already satisfied: annotated-types>=0.4.0 in /usr/local/lib/python3.10/dist-packages (from pydantic[email]<3.0,>=2.0.1->fhir.resources) (0.6.0)\n",
            "Requirement already satisfied: pydantic-core==2.16.3 in /usr/local/lib/python3.10/dist-packages (from pydantic[email]<3.0,>=2.0.1->fhir.resources) (2.16.3)\n",
            "Requirement already satisfied: typing-extensions>=4.6.1 in /usr/local/lib/python3.10/dist-packages (from pydantic[email]<3.0,>=2.0.1->fhir.resources) (4.10.0)\n",
            "Collecting email-validator>=2.0.0 (from pydantic[email]<3.0,>=2.0.1->fhir.resources)\n",
            "  Downloading email_validator-2.1.1-py3-none-any.whl (30 kB)\n",
            "Collecting dnspython>=2.0.0 (from email-validator>=2.0.0->pydantic[email]<3.0,>=2.0.1->fhir.resources)\n",
            "  Downloading dnspython-2.6.1-py3-none-any.whl (307 kB)\n",
            "\u001b[2K     \u001b[90m━━━━━━━━━━━━━━━━━━━━━━━━━━━━━━━━━━━━━━━━\u001b[0m \u001b[32m307.7/307.7 kB\u001b[0m \u001b[31m19.8 MB/s\u001b[0m eta \u001b[36m0:00:00\u001b[0m\n",
            "\u001b[?25hRequirement already satisfied: idna>=2.0.0 in /usr/local/lib/python3.10/dist-packages (from email-validator>=2.0.0->pydantic[email]<3.0,>=2.0.1->fhir.resources) (3.6)\n",
            "Installing collected packages: dnspython, email-validator, fhir.resources\n",
            "Successfully installed dnspython-2.6.1 email-validator-2.1.1 fhir.resources-7.1.0\n"
          ]
        }
      ]
    },
    {
      "cell_type": "markdown",
      "source": [
        "This is a textbox. This is going to do this. This is pulling from this website."
      ],
      "metadata": {
        "id": "pfAlah9XgNI3"
      }
    },
    {
      "cell_type": "code",
      "source": [
        "import json\n",
        "from fhir.resources.observation import Observation\n",
        "from fhir.resources.codeableconcept import CodeableConcept\n",
        "from fhir.resources.coding import Coding\n",
        "\n",
        "def create_observation(link_id, text, answer):\n",
        "    # Set code representing the question\n",
        "    code = CodeableConcept(\n",
        "        coding=[Coding(\n",
        "            system=\"http://loinc.org\",\n",
        "            code=link_id.lstrip('/'),\n",
        "            display=text\n",
        "        )]\n",
        "    )\n",
        "\n",
        "    # Set status to 'final' as these are completed observations\n",
        "    observation = Observation(code=code, status=\"final\")\n",
        "\n",
        "    # Set value based on the answer type\n",
        "    if 'valueDecimal' in answer:\n",
        "        observation.valueQuantity = {\n",
        "            \"value\": answer['valueDecimal'],\n",
        "            \"unit\": \"kg\" if \"Weight\" in text else \"cm\"\n",
        "        }\n",
        "    elif 'valueCoding' in answer:\n",
        "        observation.valueCoding = Coding(\n",
        "            system=answer['valueCoding']['system'],\n",
        "            code=answer['valueCoding']['code'],\n",
        "            display=answer['valueCoding']['display']\n",
        "        )\n",
        "\n",
        "    return observation\n",
        "\n",
        "def main():\n",
        "    with open('qr_example.json', 'r') as f:\n",
        "        data = json.load(f)\n",
        "\n",
        "    observations = []\n",
        "\n",
        "    # Iterate through each item\n",
        "    for item in data['item']:\n",
        "        link_id = item['linkId']\n",
        "        text = item['text']\n",
        "        answer = item['answer'][0]\n",
        "\n",
        "        # Create Observation resource for the item\n",
        "        observation = create_observation(link_id, text, answer)\n",
        "        observations.append(observation)\n",
        "\n",
        "    # Serialize Observation resources into JSON format\n",
        "    for index, observation in enumerate(observations):\n",
        "        with open(f'observation_{index + 1}.json', 'w') as f:\n",
        "            json.dump(observation.as_json(), f, indent=4)\n",
        "\n",
        "if __name__ == \"__main__\":\n",
        "    main()\n"
      ],
      "metadata": {
        "id": "AI1RYTgA1TG8"
      },
      "execution_count": null,
      "outputs": []
    },
    {
      "cell_type": "code",
      "source": [
        "import json\n",
        "from decimal import Decimal\n",
        "from fhir.resources.observation import Observation\n",
        "from fhir.resources.codeableconcept import CodeableConcept\n",
        "from fhir.resources.coding import Coding\n",
        "\n",
        "def create_observation(link_id, text, answer):\n",
        "    # Set code representing the question\n",
        "    code = CodeableConcept(\n",
        "        coding=[Coding(\n",
        "            system=\"http://loinc.org\",\n",
        "            code=link_id.lstrip('/'),\n",
        "            display=text\n",
        "        )]\n",
        "    )\n",
        "\n",
        "    # Set status to 'final' as these are completed observations\n",
        "    observation = Observation(code=code, status=\"final\")\n",
        "\n",
        "    # Set value based on the answer type\n",
        "    if 'valueDecimal' in answer:\n",
        "        observation.valueQuantity = {\n",
        "            \"value\": answer['valueDecimal'],\n",
        "            \"unit\": \"kg\" if \"Weight\" in text else \"cm\"\n",
        "        }\n",
        "    elif 'valueCodeableConcept' in answer:\n",
        "        value_codeable_concept = CodeableConcept(\n",
        "            coding=[Coding(\n",
        "                system=answer['valueCodeableConcept']['system'],\n",
        "                code=answer['valueCodeableConcept']['code'],\n",
        "                display=answer['valueCodeableConcept']['display']\n",
        "            )]\n",
        "        )\n",
        "        observation.valueCodeableConcept = value_codeable_concept\n",
        "\n",
        "    return observation\n",
        "\n",
        "def main():\n",
        "    with open('qr_example.json', 'r') as f:\n",
        "        data = json.load(f)\n",
        "\n",
        "    observations = []\n",
        "\n",
        "    # Iterate through each item\n",
        "    for item in data['item']:\n",
        "        link_id = item['linkId']\n",
        "        text = item['text']\n",
        "        answer = item['answer'][0]\n",
        "\n",
        "        # Create Observation resource for the item\n",
        "        observation = create_observation(link_id, text, answer)\n",
        "        observations.append(observation)\n",
        "\n",
        "    # Serialize Observation resources into JSON format\n",
        "    for index, observation in enumerate(observations):\n",
        "        # Convert Decimal values to float before serialization\n",
        "#        observation_dict = observation.dict()\n",
        "#        for key, value in observation_dict.items():\n",
        "#            if isinstance(value, Decimal):\n",
        "#                observation_dict[key] = float(value)\n",
        "\n",
        "        with open(f'observation_{index + 1}.json', 'w') as f:\n",
        "            json.dump(observation.as_json(), f, indent=4)\n",
        "\n",
        "if __name__ == \"__main__\":\n",
        "    main()\n"
      ],
      "metadata": {
        "colab": {
          "base_uri": "https://localhost:8080/",
          "height": 309
        },
        "id": "99bnC-Ma2D3Q",
        "outputId": "d7b3dfe1-efa5-4a3e-ffc8-f25979aaa45d"
      },
      "execution_count": 29,
      "outputs": [
        {
          "output_type": "error",
          "ename": "AttributeError",
          "evalue": "'Observation' object has no attribute 'as_json'",
          "traceback": [
            "\u001b[0;31m---------------------------------------------------------------------------\u001b[0m",
            "\u001b[0;31mAttributeError\u001b[0m                            Traceback (most recent call last)",
            "\u001b[0;32m<ipython-input-29-e4c0d13bad40>\u001b[0m in \u001b[0;36m<cell line: 65>\u001b[0;34m()\u001b[0m\n\u001b[1;32m     64\u001b[0m \u001b[0;34m\u001b[0m\u001b[0m\n\u001b[1;32m     65\u001b[0m \u001b[0;32mif\u001b[0m \u001b[0m__name__\u001b[0m \u001b[0;34m==\u001b[0m \u001b[0;34m\"__main__\"\u001b[0m\u001b[0;34m:\u001b[0m\u001b[0;34m\u001b[0m\u001b[0;34m\u001b[0m\u001b[0m\n\u001b[0;32m---> 66\u001b[0;31m     \u001b[0mmain\u001b[0m\u001b[0;34m(\u001b[0m\u001b[0;34m)\u001b[0m\u001b[0;34m\u001b[0m\u001b[0;34m\u001b[0m\u001b[0m\n\u001b[0m",
            "\u001b[0;32m<ipython-input-29-e4c0d13bad40>\u001b[0m in \u001b[0;36mmain\u001b[0;34m()\u001b[0m\n\u001b[1;32m     61\u001b[0m \u001b[0;34m\u001b[0m\u001b[0m\n\u001b[1;32m     62\u001b[0m         \u001b[0;32mwith\u001b[0m \u001b[0mopen\u001b[0m\u001b[0;34m(\u001b[0m\u001b[0;34mf'observation_{index + 1}.json'\u001b[0m\u001b[0;34m,\u001b[0m \u001b[0;34m'w'\u001b[0m\u001b[0;34m)\u001b[0m \u001b[0;32mas\u001b[0m \u001b[0mf\u001b[0m\u001b[0;34m:\u001b[0m\u001b[0;34m\u001b[0m\u001b[0;34m\u001b[0m\u001b[0m\n\u001b[0;32m---> 63\u001b[0;31m             \u001b[0mjson\u001b[0m\u001b[0;34m.\u001b[0m\u001b[0mdump\u001b[0m\u001b[0;34m(\u001b[0m\u001b[0mobservation\u001b[0m\u001b[0;34m.\u001b[0m\u001b[0mas_json\u001b[0m\u001b[0;34m(\u001b[0m\u001b[0;34m)\u001b[0m\u001b[0;34m,\u001b[0m \u001b[0mf\u001b[0m\u001b[0;34m,\u001b[0m \u001b[0mindent\u001b[0m\u001b[0;34m=\u001b[0m\u001b[0;36m4\u001b[0m\u001b[0;34m)\u001b[0m\u001b[0;34m\u001b[0m\u001b[0;34m\u001b[0m\u001b[0m\n\u001b[0m\u001b[1;32m     64\u001b[0m \u001b[0;34m\u001b[0m\u001b[0m\n\u001b[1;32m     65\u001b[0m \u001b[0;32mif\u001b[0m \u001b[0m__name__\u001b[0m \u001b[0;34m==\u001b[0m \u001b[0;34m\"__main__\"\u001b[0m\u001b[0;34m:\u001b[0m\u001b[0;34m\u001b[0m\u001b[0;34m\u001b[0m\u001b[0m\n",
            "\u001b[0;31mAttributeError\u001b[0m: 'Observation' object has no attribute 'as_json'"
          ]
        }
      ]
    },
    {
      "cell_type": "code",
      "source": [
        "import json\n",
        "from fhir.resources.observation import Observation\n",
        "from fhir.resources.codeableconcept import CodeableConcept\n",
        "from fhir.resources.coding import Coding\n",
        "\n",
        "def create_observation(link_id, text, answer):\n",
        "    # Set code representing the question\n",
        "    code = CodeableConcept(\n",
        "        coding=[Coding(\n",
        "            system=\"http://loinc.org\",\n",
        "            code=link_id.lstrip('/'),\n",
        "            display=text\n",
        "        )]\n",
        "    )\n",
        "\n",
        "    # Set status to 'final' as these are completed observations\n",
        "    observation = Observation(code=code, status=\"final\")\n",
        "\n",
        "    # Set value based on the answer type\n",
        "    if 'valueDecimal' in answer:\n",
        "        observation.valueQuantity = {\n",
        "            \"value\": answer['valueDecimal'],\n",
        "            \"unit\": \"kg\" if \"Weight\" in text else \"cm\"\n",
        "        }\n",
        "    elif 'valueCodeableConcept' in answer:\n",
        "        value_codeable_concept = CodeableConcept(\n",
        "            coding=[Coding(\n",
        "                system=answer['valueCodeableConcept']['system'],\n",
        "                code=answer['valueCodeableConcept']['code'],\n",
        "                display=answer['valueCodeableConcept']['display']\n",
        "            )]\n",
        "        )\n",
        "        observation.valueCodeableConcept = value_codeable_concept\n",
        "\n",
        "    return observation\n",
        "\n",
        "def main():\n",
        "    with open('qr_example.json', 'r') as f:\n",
        "        data = json.load(f)\n",
        "\n",
        "    observations = []\n",
        "\n",
        "    # Iterate through each item\n",
        "    for item in data['item']:\n",
        "        link_id = item['linkId']\n",
        "        text = item['text']\n",
        "        answer = item['answer'][0]\n",
        "\n",
        "        # Create Observation resource for the item\n",
        "        observation = create_observation(link_id, text, answer)\n",
        "        observations.append(observation)\n",
        "\n",
        "    # Serialize Observation resources into JSON format\n",
        "    for index, observation in enumerate(observations):\n",
        "        # Convert Decimal values to float before serialization\n",
        "        with open(f'observation_{index + 1}.json', 'w') as f:\n",
        "            json.dump(observation.dict(), f, indent=4)\n",
        "\n",
        "if __name__ == \"__main__\":\n",
        "    main()\n"
      ],
      "metadata": {
        "colab": {
          "base_uri": "https://localhost:8080/",
          "height": 333
        },
        "id": "5PviyDej4Hs3",
        "outputId": "923023bb-46e8-48bd-9d46-7d0e7bbdbac6"
      },
      "execution_count": 30,
      "outputs": [
        {
          "output_type": "error",
          "ename": "TypeError",
          "evalue": "Object of type Decimal is not JSON serializable",
          "traceback": [
            "\u001b[0;31m---------------------------------------------------------------------------\u001b[0m",
            "\u001b[0;31mTypeError\u001b[0m                                 Traceback (most recent call last)",
            "\u001b[0;32m<ipython-input-30-d6110787e9e7>\u001b[0m in \u001b[0;36m<cell line: 59>\u001b[0;34m()\u001b[0m\n\u001b[1;32m     58\u001b[0m \u001b[0;34m\u001b[0m\u001b[0m\n\u001b[1;32m     59\u001b[0m \u001b[0;32mif\u001b[0m \u001b[0m__name__\u001b[0m \u001b[0;34m==\u001b[0m \u001b[0;34m\"__main__\"\u001b[0m\u001b[0;34m:\u001b[0m\u001b[0;34m\u001b[0m\u001b[0;34m\u001b[0m\u001b[0m\n\u001b[0;32m---> 60\u001b[0;31m     \u001b[0mmain\u001b[0m\u001b[0;34m(\u001b[0m\u001b[0;34m)\u001b[0m\u001b[0;34m\u001b[0m\u001b[0;34m\u001b[0m\u001b[0m\n\u001b[0m",
            "\u001b[0;32m<ipython-input-30-d6110787e9e7>\u001b[0m in \u001b[0;36mmain\u001b[0;34m()\u001b[0m\n\u001b[1;32m     55\u001b[0m         \u001b[0;31m# Convert Decimal values to float before serialization\u001b[0m\u001b[0;34m\u001b[0m\u001b[0;34m\u001b[0m\u001b[0m\n\u001b[1;32m     56\u001b[0m         \u001b[0;32mwith\u001b[0m \u001b[0mopen\u001b[0m\u001b[0;34m(\u001b[0m\u001b[0;34mf'observation_{index + 1}.json'\u001b[0m\u001b[0;34m,\u001b[0m \u001b[0;34m'w'\u001b[0m\u001b[0;34m)\u001b[0m \u001b[0;32mas\u001b[0m \u001b[0mf\u001b[0m\u001b[0;34m:\u001b[0m\u001b[0;34m\u001b[0m\u001b[0;34m\u001b[0m\u001b[0m\n\u001b[0;32m---> 57\u001b[0;31m             \u001b[0mjson\u001b[0m\u001b[0;34m.\u001b[0m\u001b[0mdump\u001b[0m\u001b[0;34m(\u001b[0m\u001b[0mobservation\u001b[0m\u001b[0;34m.\u001b[0m\u001b[0mdict\u001b[0m\u001b[0;34m(\u001b[0m\u001b[0;34m)\u001b[0m\u001b[0;34m,\u001b[0m \u001b[0mf\u001b[0m\u001b[0;34m,\u001b[0m \u001b[0mindent\u001b[0m\u001b[0;34m=\u001b[0m\u001b[0;36m4\u001b[0m\u001b[0;34m)\u001b[0m\u001b[0;34m\u001b[0m\u001b[0;34m\u001b[0m\u001b[0m\n\u001b[0m\u001b[1;32m     58\u001b[0m \u001b[0;34m\u001b[0m\u001b[0m\n\u001b[1;32m     59\u001b[0m \u001b[0;32mif\u001b[0m \u001b[0m__name__\u001b[0m \u001b[0;34m==\u001b[0m \u001b[0;34m\"__main__\"\u001b[0m\u001b[0;34m:\u001b[0m\u001b[0;34m\u001b[0m\u001b[0;34m\u001b[0m\u001b[0m\n",
            "\u001b[0;32m/usr/lib/python3.10/json/__init__.py\u001b[0m in \u001b[0;36mdump\u001b[0;34m(obj, fp, skipkeys, ensure_ascii, check_circular, allow_nan, cls, indent, separators, default, sort_keys, **kw)\u001b[0m\n\u001b[1;32m    177\u001b[0m     \u001b[0;31m# could accelerate with writelines in some versions of Python, at\u001b[0m\u001b[0;34m\u001b[0m\u001b[0;34m\u001b[0m\u001b[0m\n\u001b[1;32m    178\u001b[0m     \u001b[0;31m# a debuggability cost\u001b[0m\u001b[0;34m\u001b[0m\u001b[0;34m\u001b[0m\u001b[0m\n\u001b[0;32m--> 179\u001b[0;31m     \u001b[0;32mfor\u001b[0m \u001b[0mchunk\u001b[0m \u001b[0;32min\u001b[0m \u001b[0miterable\u001b[0m\u001b[0;34m:\u001b[0m\u001b[0;34m\u001b[0m\u001b[0;34m\u001b[0m\u001b[0m\n\u001b[0m\u001b[1;32m    180\u001b[0m         \u001b[0mfp\u001b[0m\u001b[0;34m.\u001b[0m\u001b[0mwrite\u001b[0m\u001b[0;34m(\u001b[0m\u001b[0mchunk\u001b[0m\u001b[0;34m)\u001b[0m\u001b[0;34m\u001b[0m\u001b[0;34m\u001b[0m\u001b[0m\n\u001b[1;32m    181\u001b[0m \u001b[0;34m\u001b[0m\u001b[0m\n",
            "\u001b[0;32m/usr/lib/python3.10/json/encoder.py\u001b[0m in \u001b[0;36m_iterencode\u001b[0;34m(o, _current_indent_level)\u001b[0m\n\u001b[1;32m    429\u001b[0m             \u001b[0;32myield\u001b[0m \u001b[0;32mfrom\u001b[0m \u001b[0m_iterencode_list\u001b[0m\u001b[0;34m(\u001b[0m\u001b[0mo\u001b[0m\u001b[0;34m,\u001b[0m \u001b[0m_current_indent_level\u001b[0m\u001b[0;34m)\u001b[0m\u001b[0;34m\u001b[0m\u001b[0;34m\u001b[0m\u001b[0m\n\u001b[1;32m    430\u001b[0m         \u001b[0;32melif\u001b[0m \u001b[0misinstance\u001b[0m\u001b[0;34m(\u001b[0m\u001b[0mo\u001b[0m\u001b[0;34m,\u001b[0m \u001b[0mdict\u001b[0m\u001b[0;34m)\u001b[0m\u001b[0;34m:\u001b[0m\u001b[0;34m\u001b[0m\u001b[0;34m\u001b[0m\u001b[0m\n\u001b[0;32m--> 431\u001b[0;31m             \u001b[0;32myield\u001b[0m \u001b[0;32mfrom\u001b[0m \u001b[0m_iterencode_dict\u001b[0m\u001b[0;34m(\u001b[0m\u001b[0mo\u001b[0m\u001b[0;34m,\u001b[0m \u001b[0m_current_indent_level\u001b[0m\u001b[0;34m)\u001b[0m\u001b[0;34m\u001b[0m\u001b[0;34m\u001b[0m\u001b[0m\n\u001b[0m\u001b[1;32m    432\u001b[0m         \u001b[0;32melse\u001b[0m\u001b[0;34m:\u001b[0m\u001b[0;34m\u001b[0m\u001b[0;34m\u001b[0m\u001b[0m\n\u001b[1;32m    433\u001b[0m             \u001b[0;32mif\u001b[0m \u001b[0mmarkers\u001b[0m \u001b[0;32mis\u001b[0m \u001b[0;32mnot\u001b[0m \u001b[0;32mNone\u001b[0m\u001b[0;34m:\u001b[0m\u001b[0;34m\u001b[0m\u001b[0;34m\u001b[0m\u001b[0m\n",
            "\u001b[0;32m/usr/lib/python3.10/json/encoder.py\u001b[0m in \u001b[0;36m_iterencode_dict\u001b[0;34m(dct, _current_indent_level)\u001b[0m\n\u001b[1;32m    403\u001b[0m                 \u001b[0;32melse\u001b[0m\u001b[0;34m:\u001b[0m\u001b[0;34m\u001b[0m\u001b[0;34m\u001b[0m\u001b[0m\n\u001b[1;32m    404\u001b[0m                     \u001b[0mchunks\u001b[0m \u001b[0;34m=\u001b[0m \u001b[0m_iterencode\u001b[0m\u001b[0;34m(\u001b[0m\u001b[0mvalue\u001b[0m\u001b[0;34m,\u001b[0m \u001b[0m_current_indent_level\u001b[0m\u001b[0;34m)\u001b[0m\u001b[0;34m\u001b[0m\u001b[0;34m\u001b[0m\u001b[0m\n\u001b[0;32m--> 405\u001b[0;31m                 \u001b[0;32myield\u001b[0m \u001b[0;32mfrom\u001b[0m \u001b[0mchunks\u001b[0m\u001b[0;34m\u001b[0m\u001b[0;34m\u001b[0m\u001b[0m\n\u001b[0m\u001b[1;32m    406\u001b[0m         \u001b[0;32mif\u001b[0m \u001b[0mnewline_indent\u001b[0m \u001b[0;32mis\u001b[0m \u001b[0;32mnot\u001b[0m \u001b[0;32mNone\u001b[0m\u001b[0;34m:\u001b[0m\u001b[0;34m\u001b[0m\u001b[0;34m\u001b[0m\u001b[0m\n\u001b[1;32m    407\u001b[0m             \u001b[0m_current_indent_level\u001b[0m \u001b[0;34m-=\u001b[0m \u001b[0;36m1\u001b[0m\u001b[0;34m\u001b[0m\u001b[0;34m\u001b[0m\u001b[0m\n",
            "\u001b[0;32m/usr/lib/python3.10/json/encoder.py\u001b[0m in \u001b[0;36m_iterencode_dict\u001b[0;34m(dct, _current_indent_level)\u001b[0m\n\u001b[1;32m    403\u001b[0m                 \u001b[0;32melse\u001b[0m\u001b[0;34m:\u001b[0m\u001b[0;34m\u001b[0m\u001b[0;34m\u001b[0m\u001b[0m\n\u001b[1;32m    404\u001b[0m                     \u001b[0mchunks\u001b[0m \u001b[0;34m=\u001b[0m \u001b[0m_iterencode\u001b[0m\u001b[0;34m(\u001b[0m\u001b[0mvalue\u001b[0m\u001b[0;34m,\u001b[0m \u001b[0m_current_indent_level\u001b[0m\u001b[0;34m)\u001b[0m\u001b[0;34m\u001b[0m\u001b[0;34m\u001b[0m\u001b[0m\n\u001b[0;32m--> 405\u001b[0;31m                 \u001b[0;32myield\u001b[0m \u001b[0;32mfrom\u001b[0m \u001b[0mchunks\u001b[0m\u001b[0;34m\u001b[0m\u001b[0;34m\u001b[0m\u001b[0m\n\u001b[0m\u001b[1;32m    406\u001b[0m         \u001b[0;32mif\u001b[0m \u001b[0mnewline_indent\u001b[0m \u001b[0;32mis\u001b[0m \u001b[0;32mnot\u001b[0m \u001b[0;32mNone\u001b[0m\u001b[0;34m:\u001b[0m\u001b[0;34m\u001b[0m\u001b[0;34m\u001b[0m\u001b[0m\n\u001b[1;32m    407\u001b[0m             \u001b[0m_current_indent_level\u001b[0m \u001b[0;34m-=\u001b[0m \u001b[0;36m1\u001b[0m\u001b[0;34m\u001b[0m\u001b[0;34m\u001b[0m\u001b[0m\n",
            "\u001b[0;32m/usr/lib/python3.10/json/encoder.py\u001b[0m in \u001b[0;36m_iterencode\u001b[0;34m(o, _current_indent_level)\u001b[0m\n\u001b[1;32m    436\u001b[0m                     \u001b[0;32mraise\u001b[0m \u001b[0mValueError\u001b[0m\u001b[0;34m(\u001b[0m\u001b[0;34m\"Circular reference detected\"\u001b[0m\u001b[0;34m)\u001b[0m\u001b[0;34m\u001b[0m\u001b[0;34m\u001b[0m\u001b[0m\n\u001b[1;32m    437\u001b[0m                 \u001b[0mmarkers\u001b[0m\u001b[0;34m[\u001b[0m\u001b[0mmarkerid\u001b[0m\u001b[0;34m]\u001b[0m \u001b[0;34m=\u001b[0m \u001b[0mo\u001b[0m\u001b[0;34m\u001b[0m\u001b[0;34m\u001b[0m\u001b[0m\n\u001b[0;32m--> 438\u001b[0;31m             \u001b[0mo\u001b[0m \u001b[0;34m=\u001b[0m \u001b[0m_default\u001b[0m\u001b[0;34m(\u001b[0m\u001b[0mo\u001b[0m\u001b[0;34m)\u001b[0m\u001b[0;34m\u001b[0m\u001b[0;34m\u001b[0m\u001b[0m\n\u001b[0m\u001b[1;32m    439\u001b[0m             \u001b[0;32myield\u001b[0m \u001b[0;32mfrom\u001b[0m \u001b[0m_iterencode\u001b[0m\u001b[0;34m(\u001b[0m\u001b[0mo\u001b[0m\u001b[0;34m,\u001b[0m \u001b[0m_current_indent_level\u001b[0m\u001b[0;34m)\u001b[0m\u001b[0;34m\u001b[0m\u001b[0;34m\u001b[0m\u001b[0m\n\u001b[1;32m    440\u001b[0m             \u001b[0;32mif\u001b[0m \u001b[0mmarkers\u001b[0m \u001b[0;32mis\u001b[0m \u001b[0;32mnot\u001b[0m \u001b[0;32mNone\u001b[0m\u001b[0;34m:\u001b[0m\u001b[0;34m\u001b[0m\u001b[0;34m\u001b[0m\u001b[0m\n",
            "\u001b[0;32m/usr/lib/python3.10/json/encoder.py\u001b[0m in \u001b[0;36mdefault\u001b[0;34m(self, o)\u001b[0m\n\u001b[1;32m    177\u001b[0m \u001b[0;34m\u001b[0m\u001b[0m\n\u001b[1;32m    178\u001b[0m         \"\"\"\n\u001b[0;32m--> 179\u001b[0;31m         raise TypeError(f'Object of type {o.__class__.__name__} '\n\u001b[0m\u001b[1;32m    180\u001b[0m                         f'is not JSON serializable')\n\u001b[1;32m    181\u001b[0m \u001b[0;34m\u001b[0m\u001b[0m\n",
            "\u001b[0;31mTypeError\u001b[0m: Object of type Decimal is not JSON serializable"
          ]
        }
      ]
    },
    {
      "cell_type": "code",
      "source": [
        "import json\n",
        "from decimal import Decimal\n",
        "from fhir.resources.observation import Observation\n",
        "from fhir.resources.codeableconcept import CodeableConcept\n",
        "from fhir.resources.coding import Coding\n",
        "\n",
        "def create_observation(link_id, text, answer):\n",
        "    # Set code representing the question\n",
        "    code = CodeableConcept(\n",
        "        coding=[Coding(\n",
        "            system=\"http://loinc.org\",\n",
        "            code=link_id.lstrip('/'),\n",
        "            display=text\n",
        "        )]\n",
        "    )\n",
        "\n",
        "    # Set status to 'final' as these are completed observations\n",
        "    observation = Observation(code=code, status=\"final\")\n",
        "\n",
        "    # Set value based on the answer type\n",
        "    if 'valueDecimal' in answer:\n",
        "        value = float(answer['valueDecimal'])\n",
        "        observation.valueQuantity = {\n",
        "            \"value\": value,\n",
        "            \"unit\": \"kg\" if \"Weight\" in text else \"cm\"\n",
        "        }\n",
        "    elif 'valueCodeableConcept' in answer:\n",
        "        value_codeable_concept = CodeableConcept(\n",
        "            coding=[Coding(\n",
        "                system=answer['valueCodeableConcept']['system'],\n",
        "                code=answer['valueCodeableConcept']['code'],\n",
        "                display=answer['valueCodeableConcept']['display']\n",
        "            )]\n",
        "        )\n",
        "        observation.valueCodeableConcept = value_codeable_concept\n",
        "\n",
        "    return observation\n",
        "\n",
        "def main():\n",
        "    with open('qr_example.json', 'r') as f:\n",
        "        data = json.load(f)\n",
        "\n",
        "    observations = []\n",
        "\n",
        "    # Iterate through each item\n",
        "    for item in data['item']:\n",
        "        link_id = item['linkId']\n",
        "        text = item['text']\n",
        "        answer = item['answer'][0]\n",
        "\n",
        "        # Create Observation resource for the item\n",
        "        observation = create_observation(link_id, text, answer)\n",
        "        observations.append(observation)\n",
        "\n",
        "    # Serialize Observation resources into JSON format\n",
        "    for index, observation in enumerate(observations):\n",
        "        # Convert Decimal values to floats before serialization\n",
        "        observation_dict = observation.dict()\n",
        "        for key, value in observation_dict.items():\n",
        "            if isinstance(value, dict):\n",
        "                for k, v in value.items():\n",
        "                    if isinstance(v, Decimal):\n",
        "                        value[k] = float(v)\n",
        "            elif isinstance(value, Decimal):\n",
        "                observation_dict[key] = float(value)\n",
        "\n",
        "        with open(f'observation_{index + 1}.json', 'w') as f:\n",
        "            json.dump(observation_dict, f, indent=4)\n",
        "\n",
        "if __name__ == \"__main__\":\n",
        "    main()\n"
      ],
      "metadata": {
        "id": "tYDgGSSm6kCL"
      },
      "execution_count": 34,
      "outputs": []
    },
    {
      "cell_type": "code",
      "source": [],
      "metadata": {
        "id": "_C9boxIf6xK_"
      },
      "execution_count": null,
      "outputs": []
    }
  ]
}