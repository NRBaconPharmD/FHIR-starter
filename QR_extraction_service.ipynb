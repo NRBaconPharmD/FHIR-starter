{
  "nbformat": 4,
  "nbformat_minor": 0,
  "metadata": {
    "colab": {
      "provenance": []
    },
    "kernelspec": {
      "name": "python3",
      "display_name": "Python 3"
    },
    "language_info": {
      "name": "python"
    }
  },
  "cells": [
    {
      "cell_type": "markdown",
      "source": [
        "First, install the fhir.resources library."
      ],
      "metadata": {
        "id": "Nq4syOFC9L-7"
      }
    },
    {
      "cell_type": "code",
      "source": [
        "!pip install fhir.resources"
      ],
      "metadata": {
        "colab": {
          "base_uri": "https://localhost:8080/"
        },
        "collapsed": true,
        "id": "tSJO6lfmjs_B",
        "outputId": "63a08008-ad00-4efb-d708-e331bd76d86f"
      },
      "execution_count": 3,
      "outputs": [
        {
          "output_type": "stream",
          "name": "stdout",
          "text": [
            "Collecting fhir.resources\n",
            "  Downloading fhir.resources-7.1.0-py2.py3-none-any.whl (3.1 MB)\n",
            "\u001b[2K     \u001b[90m━━━━━━━━━━━━━━━━━━━━━━━━━━━━━━━━━━━━━━━━\u001b[0m \u001b[32m3.1/3.1 MB\u001b[0m \u001b[31m18.1 MB/s\u001b[0m eta \u001b[36m0:00:00\u001b[0m\n",
            "\u001b[?25hRequirement already satisfied: pydantic[email]<3.0,>=2.0.1 in /usr/local/lib/python3.10/dist-packages (from fhir.resources) (2.6.4)\n",
            "Requirement already satisfied: annotated-types>=0.4.0 in /usr/local/lib/python3.10/dist-packages (from pydantic[email]<3.0,>=2.0.1->fhir.resources) (0.6.0)\n",
            "Requirement already satisfied: pydantic-core==2.16.3 in /usr/local/lib/python3.10/dist-packages (from pydantic[email]<3.0,>=2.0.1->fhir.resources) (2.16.3)\n",
            "Requirement already satisfied: typing-extensions>=4.6.1 in /usr/local/lib/python3.10/dist-packages (from pydantic[email]<3.0,>=2.0.1->fhir.resources) (4.10.0)\n",
            "Collecting email-validator>=2.0.0 (from pydantic[email]<3.0,>=2.0.1->fhir.resources)\n",
            "  Downloading email_validator-2.1.1-py3-none-any.whl (30 kB)\n",
            "Collecting dnspython>=2.0.0 (from email-validator>=2.0.0->pydantic[email]<3.0,>=2.0.1->fhir.resources)\n",
            "  Downloading dnspython-2.6.1-py3-none-any.whl (307 kB)\n",
            "\u001b[2K     \u001b[90m━━━━━━━━━━━━━━━━━━━━━━━━━━━━━━━━━━━━━━━━\u001b[0m \u001b[32m307.7/307.7 kB\u001b[0m \u001b[31m19.8 MB/s\u001b[0m eta \u001b[36m0:00:00\u001b[0m\n",
            "\u001b[?25hRequirement already satisfied: idna>=2.0.0 in /usr/local/lib/python3.10/dist-packages (from email-validator>=2.0.0->pydantic[email]<3.0,>=2.0.1->fhir.resources) (3.6)\n",
            "Installing collected packages: dnspython, email-validator, fhir.resources\n",
            "Successfully installed dnspython-2.6.1 email-validator-2.1.1 fhir.resources-7.1.0\n"
          ]
        }
      ]
    },
    {
      "cell_type": "markdown",
      "source": [
        "The following script will extract observation resources from a questionnaire response resource."
      ],
      "metadata": {
        "id": "jD_K9Wqj8wMV"
      }
    },
    {
      "cell_type": "code",
      "source": [
        "import json\n",
        "from decimal import Decimal\n",
        "from fhir.resources.observation import Observation\n",
        "from fhir.resources.codeableconcept import CodeableConcept\n",
        "from fhir.resources.coding import Coding\n",
        "\n",
        "def create_observation(link_id, text, answer):\n",
        "    # Set code representing the question\n",
        "    code = CodeableConcept(\n",
        "        coding=[Coding(\n",
        "            system=\"http://loinc.org\",\n",
        "            code=link_id.lstrip('/'),\n",
        "            display=text\n",
        "        )]\n",
        "    )\n",
        "\n",
        "    # Set status to 'final' as these are completed observations\n",
        "    observation = Observation(code=code, status=\"final\")\n",
        "\n",
        "    # Set value based on the answer type\n",
        "    if 'valueDecimal' in answer:\n",
        "        value = float(answer['valueDecimal'])\n",
        "        observation.valueQuantity = {\n",
        "            \"value\": value,\n",
        "            \"unit\": \"kg\" if \"Weight\" in text else \"cm\"\n",
        "        }\n",
        "    elif 'valueCodeableConcept' in answer:\n",
        "        value_codeable_concept = CodeableConcept(\n",
        "            coding=[Coding(\n",
        "                system=answer['valueCodeableConcept']['system'],\n",
        "                code=answer['valueCodeableConcept']['code'],\n",
        "                display=answer['valueCodeableConcept']['display']\n",
        "            )]\n",
        "        )\n",
        "        observation.valueCodeableConcept = value_codeable_concept\n",
        "\n",
        "    return observation\n",
        "\n",
        "def main():\n",
        "    with open('qr_example.json', 'r') as f:\n",
        "        data = json.load(f)\n",
        "\n",
        "    observations = []\n",
        "\n",
        "    # Iterate through each item\n",
        "    for item in data['item']:\n",
        "        link_id = item['linkId']\n",
        "        text = item['text']\n",
        "        answer = item['answer'][0]\n",
        "\n",
        "        # Create Observation resource for the item\n",
        "        observation = create_observation(link_id, text, answer)\n",
        "        observations.append(observation)\n",
        "\n",
        "    # Serialize Observation resources into JSON format\n",
        "    for index, observation in enumerate(observations):\n",
        "        # Convert Decimal values to floats before serialization\n",
        "        observation_dict = observation.dict()\n",
        "        for key, value in observation_dict.items():\n",
        "            if isinstance(value, dict):\n",
        "                for k, v in value.items():\n",
        "                    if isinstance(v, Decimal):\n",
        "                        value[k] = float(v)\n",
        "            elif isinstance(value, Decimal):\n",
        "                observation_dict[key] = float(value)\n",
        "\n",
        "        with open(f'observation_{index + 1}.json', 'w') as f:\n",
        "            json.dump(observation_dict, f, indent=4)\n",
        "\n",
        "if __name__ == \"__main__\":\n",
        "    main()\n"
      ],
      "metadata": {
        "id": "tYDgGSSm6kCL"
      },
      "execution_count": 35,
      "outputs": []
    },
    {
      "cell_type": "code",
      "source": [],
      "metadata": {
        "id": "tF7FLnc_9GE1"
      },
      "execution_count": null,
      "outputs": []
    }
  ]
}