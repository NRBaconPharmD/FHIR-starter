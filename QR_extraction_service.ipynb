{
  "nbformat": 4,
  "nbformat_minor": 0,
  "metadata": {
    "colab": {
      "provenance": []
    },
    "kernelspec": {
      "name": "python3",
      "display_name": "Python 3"
    },
    "language_info": {
      "name": "python"
    }
  },
  "cells": [
    {
      "cell_type": "markdown",
      "source": [
        "First, install the fhir.resources library."
      ],
      "metadata": {
        "id": "Nq4syOFC9L-7"
      }
    },
    {
      "cell_type": "code",
      "source": [
        "!pip install fhir.resources"
      ],
      "metadata": {
        "colab": {
          "base_uri": "https://localhost:8080/"
        },
        "collapsed": true,
        "id": "tSJO6lfmjs_B",
        "outputId": "0ecb2141-1627-4e96-bc93-e62931c119e6"
      },
      "execution_count": 1,
      "outputs": [
        {
          "output_type": "stream",
          "name": "stdout",
          "text": [
            "Collecting fhir.resources\n",
            "  Downloading fhir.resources-7.1.0-py2.py3-none-any.whl (3.1 MB)\n",
            "\u001b[2K     \u001b[90m━━━━━━━━━━━━━━━━━━━━━━━━━━━━━━━━━━━━━━━━\u001b[0m \u001b[32m3.1/3.1 MB\u001b[0m \u001b[31m12.8 MB/s\u001b[0m eta \u001b[36m0:00:00\u001b[0m\n",
            "\u001b[?25hRequirement already satisfied: pydantic[email]<3.0,>=2.0.1 in /usr/local/lib/python3.10/dist-packages (from fhir.resources) (2.7.0)\n",
            "Requirement already satisfied: annotated-types>=0.4.0 in /usr/local/lib/python3.10/dist-packages (from pydantic[email]<3.0,>=2.0.1->fhir.resources) (0.6.0)\n",
            "Requirement already satisfied: pydantic-core==2.18.1 in /usr/local/lib/python3.10/dist-packages (from pydantic[email]<3.0,>=2.0.1->fhir.resources) (2.18.1)\n",
            "Requirement already satisfied: typing-extensions>=4.6.1 in /usr/local/lib/python3.10/dist-packages (from pydantic[email]<3.0,>=2.0.1->fhir.resources) (4.11.0)\n",
            "Collecting email-validator>=2.0.0 (from pydantic[email]<3.0,>=2.0.1->fhir.resources)\n",
            "  Downloading email_validator-2.1.1-py3-none-any.whl (30 kB)\n",
            "Collecting dnspython>=2.0.0 (from email-validator>=2.0.0->pydantic[email]<3.0,>=2.0.1->fhir.resources)\n",
            "  Downloading dnspython-2.6.1-py3-none-any.whl (307 kB)\n",
            "\u001b[2K     \u001b[90m━━━━━━━━━━━━━━━━━━━━━━━━━━━━━━━━━━━━━━━━\u001b[0m \u001b[32m307.7/307.7 kB\u001b[0m \u001b[31m8.1 MB/s\u001b[0m eta \u001b[36m0:00:00\u001b[0m\n",
            "\u001b[?25hRequirement already satisfied: idna>=2.0.0 in /usr/local/lib/python3.10/dist-packages (from email-validator>=2.0.0->pydantic[email]<3.0,>=2.0.1->fhir.resources) (3.7)\n",
            "Installing collected packages: dnspython, email-validator, fhir.resources\n",
            "Successfully installed dnspython-2.6.1 email-validator-2.1.1 fhir.resources-7.1.0\n"
          ]
        }
      ]
    },
    {
      "cell_type": "markdown",
      "source": [
        "The following script will extract observation resources from a questionnaire response resource."
      ],
      "metadata": {
        "id": "jD_K9Wqj8wMV"
      }
    },
    {
      "cell_type": "code",
      "source": [
        "import json\n",
        "from fhir.resources.observation import Observation\n",
        "from fhir.resources.codeableconcept import CodeableConcept\n",
        "from fhir.resources.coding import Coding\n",
        "\n",
        "def extract_units(questionnaire_file):\n",
        "    units_map = {}\n",
        "    with open(questionnaire_file, 'r') as f:\n",
        "        questionnaire = json.load(f)\n",
        "        for item in questionnaire['item']:\n",
        "            link_id = item['linkId']\n",
        "            if 'extension' in item:\n",
        "                for extension in item['extension']:\n",
        "                    if 'url' in extension and extension['url'] == 'http://hl7.org/fhir/StructureDefinition/questionnaire-unit':\n",
        "                        units_map[link_id] = extension['valueCoding']['display']\n",
        "    return units_map\n",
        "\n",
        "def create_observation(link_id, text, answer, units=None):\n",
        "    # Set code representing the question\n",
        "    code = CodeableConcept(\n",
        "        coding=[Coding(\n",
        "            system=\"http://loinc.org\",\n",
        "            code=link_id.lstrip('/'),\n",
        "            display=text\n",
        "        )]\n",
        "    )\n",
        "\n",
        "    # Set status to 'final' as these are completed observations\n",
        "    observation = Observation(code=code, status=\"final\")\n",
        "\n",
        "    # Set value based on the answer type\n",
        "    if 'valueDecimal' in answer:\n",
        "        value = float(answer['valueDecimal'])\n",
        "        if units:  # Check if units are provided\n",
        "            observation.valueQuantity = {\n",
        "                \"value\": value,\n",
        "                \"unit\": units\n",
        "            }\n",
        "        else:\n",
        "            observation.valueQuantity = {\"value\": value}\n",
        "    elif 'valueCodeableConcept' in answer:\n",
        "        value_codeable_concept = CodeableConcept(\n",
        "            coding=[Coding(\n",
        "                system=answer['valueCodeableConcept']['system'],\n",
        "                code=answer['valueCodeableConcept']['code'],\n",
        "                display=answer['valueCodeableConcept']['display']\n",
        "            )]\n",
        "        )\n",
        "        observation.valueCodeableConcept = value_codeable_concept\n",
        "\n",
        "    return observation\n",
        "\n",
        "def main():\n",
        "    # Extract units from questionnaire file\n",
        "    units_map = extract_units('ht_wt_panel-q.json')\n",
        "\n",
        "    # Parse questionnaire response JSON file\n",
        "    with open('ht_wt_panel-qr.json', 'r') as f:\n",
        "        questionnaire_response = json.load(f)\n",
        "\n",
        "    # Iterate through each item in the questionnaire response\n",
        "    for item in questionnaire_response['item']:\n",
        "        link_id = item['linkId']\n",
        "        text = item['text']\n",
        "        answer = item['answer'][0]\n",
        "\n",
        "        # Get units for the current question\n",
        "        units = units_map.get(link_id)\n",
        "\n",
        "        # Create Observation resource for the item\n",
        "        observation = create_observation(link_id, text, answer, units)\n",
        "\n",
        "        # Print the observation\n",
        "        print(observation.json(indent=4))\n",
        "\n",
        "if __name__ == \"__main__\":\n",
        "    main()\n"
      ],
      "metadata": {
        "colab": {
          "base_uri": "https://localhost:8080/"
        },
        "id": "hoj977bFnGSY",
        "outputId": "0f7a12a5-8099-42a0-d47b-7bd6b9ba9490"
      },
      "execution_count": 22,
      "outputs": [
        {
          "output_type": "stream",
          "name": "stdout",
          "text": [
            "{\n",
            "    \"resourceType\": \"Observation\",\n",
            "    \"status\": \"final\",\n",
            "    \"code\": {\n",
            "        \"coding\": [\n",
            "            {\n",
            "                \"system\": \"http://loinc.org\",\n",
            "                \"code\": \"9732277310580\",\n",
            "                \"display\": \"What brings you to the doctor today?\"\n",
            "            }\n",
            "        ]\n",
            "    }\n",
            "}\n",
            "{\n",
            "    \"resourceType\": \"Observation\",\n",
            "    \"status\": \"final\",\n",
            "    \"code\": {\n",
            "        \"coding\": [\n",
            "            {\n",
            "                \"system\": \"http://loinc.org\",\n",
            "                \"code\": \"29463-7\",\n",
            "                \"display\": \"What is your weight?\"\n",
            "            }\n",
            "        ]\n",
            "    },\n",
            "    \"valueQuantity\": {\n",
            "        \"value\": 90.0,\n",
            "        \"unit\": \"kg\"\n",
            "    }\n",
            "}\n",
            "{\n",
            "    \"resourceType\": \"Observation\",\n",
            "    \"status\": \"final\",\n",
            "    \"code\": {\n",
            "        \"coding\": [\n",
            "            {\n",
            "                \"system\": \"http://loinc.org\",\n",
            "                \"code\": \"8302-2\",\n",
            "                \"display\": \"What is your height?\"\n",
            "            }\n",
            "        ]\n",
            "    },\n",
            "    \"valueQuantity\": {\n",
            "        \"value\": 72.0,\n",
            "        \"unit\": \"[in_i]\"\n",
            "    }\n",
            "}\n"
          ]
        }
      ]
    }
  ]
}