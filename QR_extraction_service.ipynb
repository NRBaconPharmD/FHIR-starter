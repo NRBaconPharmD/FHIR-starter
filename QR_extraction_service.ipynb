{
  "nbformat": 4,
  "nbformat_minor": 0,
  "metadata": {
    "colab": {
      "provenance": []
    },
    "kernelspec": {
      "name": "python3",
      "display_name": "Python 3"
    },
    "language_info": {
      "name": "python"
    }
  },
  "cells": [
    {
      "cell_type": "code",
      "execution_count": 1,
      "metadata": {
        "colab": {
          "base_uri": "https://localhost:8080/"
        },
        "id": "-1QQhuYGftyF",
        "outputId": "ba658616-0649-4dc9-e39f-51cfc8e2299f"
      },
      "outputs": [
        {
          "output_type": "stream",
          "name": "stdout",
          "text": [
            "Hellow world\n"
          ]
        }
      ],
      "source": [
        "print('Hellow world')"
      ]
    },
    {
      "cell_type": "code",
      "source": [
        "#This is code"
      ],
      "metadata": {
        "id": "eCLsvgyUgHUu"
      },
      "execution_count": null,
      "outputs": []
    },
    {
      "cell_type": "markdown",
      "source": [
        "This is a textbox. This is going to do this. This is pulling from this website."
      ],
      "metadata": {
        "id": "pfAlah9XgNI3"
      }
    }
  ]
}