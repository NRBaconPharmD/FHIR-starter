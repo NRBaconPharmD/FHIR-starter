{
  "nbformat": 4,
  "nbformat_minor": 0,
  "metadata": {
    "colab": {
      "provenance": []
    },
    "kernelspec": {
      "name": "python3",
      "display_name": "Python 3"
    },
    "language_info": {
      "name": "python"
    }
  },
  "cells": [
    {
      "cell_type": "code",
      "source": [
        "!pip install fhir.resources"
      ],
      "metadata": {
        "colab": {
          "base_uri": "https://localhost:8080/"
        },
        "collapsed": true,
        "id": "OjrdDxv_Ovg-",
        "outputId": "4f532632-ddd4-4396-eb23-71f7b9611ff1"
      },
      "execution_count": 1,
      "outputs": [
        {
          "output_type": "stream",
          "name": "stdout",
          "text": [
            "Collecting fhir.resources\n",
            "  Downloading fhir.resources-7.1.0-py2.py3-none-any.whl (3.1 MB)\n",
            "\u001b[2K     \u001b[90m━━━━━━━━━━━━━━━━━━━━━━━━━━━━━━━━━━━━━━━━\u001b[0m \u001b[32m3.1/3.1 MB\u001b[0m \u001b[31m13.9 MB/s\u001b[0m eta \u001b[36m0:00:00\u001b[0m\n",
            "\u001b[?25hRequirement already satisfied: pydantic[email]<3.0,>=2.0.1 in /usr/local/lib/python3.10/dist-packages (from fhir.resources) (2.7.0)\n",
            "Requirement already satisfied: annotated-types>=0.4.0 in /usr/local/lib/python3.10/dist-packages (from pydantic[email]<3.0,>=2.0.1->fhir.resources) (0.6.0)\n",
            "Requirement already satisfied: pydantic-core==2.18.1 in /usr/local/lib/python3.10/dist-packages (from pydantic[email]<3.0,>=2.0.1->fhir.resources) (2.18.1)\n",
            "Requirement already satisfied: typing-extensions>=4.6.1 in /usr/local/lib/python3.10/dist-packages (from pydantic[email]<3.0,>=2.0.1->fhir.resources) (4.11.0)\n",
            "Collecting email-validator>=2.0.0 (from pydantic[email]<3.0,>=2.0.1->fhir.resources)\n",
            "  Downloading email_validator-2.1.1-py3-none-any.whl (30 kB)\n",
            "Collecting dnspython>=2.0.0 (from email-validator>=2.0.0->pydantic[email]<3.0,>=2.0.1->fhir.resources)\n",
            "  Downloading dnspython-2.6.1-py3-none-any.whl (307 kB)\n",
            "\u001b[2K     \u001b[90m━━━━━━━━━━━━━━━━━━━━━━━━━━━━━━━━━━━━━━━━\u001b[0m \u001b[32m307.7/307.7 kB\u001b[0m \u001b[31m18.7 MB/s\u001b[0m eta \u001b[36m0:00:00\u001b[0m\n",
            "\u001b[?25hRequirement already satisfied: idna>=2.0.0 in /usr/local/lib/python3.10/dist-packages (from email-validator>=2.0.0->pydantic[email]<3.0,>=2.0.1->fhir.resources) (3.7)\n",
            "Installing collected packages: dnspython, email-validator, fhir.resources\n",
            "Successfully installed dnspython-2.6.1 email-validator-2.1.1 fhir.resources-7.1.0\n"
          ]
        }
      ]
    },
    {
      "cell_type": "code",
      "execution_count": 2,
      "metadata": {
        "colab": {
          "base_uri": "https://localhost:8080/"
        },
        "id": "VXBBiS7TMM2Z",
        "outputId": "343854e3-3536-4906-8ec9-4f4d1bd81d46"
      },
      "outputs": [
        {
          "output_type": "stream",
          "name": "stdout",
          "text": [
            "{\n",
            "    \"resourceType\": \"Patient\",\n",
            "    \"name\": [\n",
            "        {\n",
            "            \"use\": \"official\",\n",
            "            \"family\": \"Simpson\",\n",
            "            \"given\": [\n",
            "                \"Bart\"\n",
            "            ]\n",
            "        }\n",
            "    ],\n",
            "    \"gender\": \"male\",\n",
            "    \"birthDate\": \"2000-06-05\"\n",
            "}\n"
          ]
        }
      ],
      "source": [
        "import json\n",
        "from datetime import datetime\n",
        "from fhir.resources.questionnaireresponse import QuestionnaireResponse\n",
        "from fhir.resources.questionnaire import Questionnaire\n",
        "from fhir.resources.patient import Patient\n",
        "from fhir.resources.humanname import HumanName\n",
        "\n",
        "def json_to_fhir(questionnaire_file, response_file):\n",
        "    \"\"\"Converts JSON files into FHIR resources.\"\"\"\n",
        "    with open(questionnaire_file, 'r') as file:\n",
        "        questionnaire_data = json.load(file)\n",
        "    questionnaire = Questionnaire.parse_obj(questionnaire_data)\n",
        "\n",
        "    with open(response_file, 'r') as file:\n",
        "        response_data = json.load(file)\n",
        "    response = QuestionnaireResponse.parse_obj(response_data)\n",
        "\n",
        "    return questionnaire, response\n",
        "\n",
        "def instantiate_patient_from_answers(extracted_answers):\n",
        "    \"\"\"Instantiates and returns a new Patient resource using extracted answers with dictionary mappings.\"\"\"\n",
        "    patient = Patient()\n",
        "    patient.name = [HumanName(use='official')]\n",
        "\n",
        "    # Mapping dictionary to convert codes to patient attributes\n",
        "    attribute_mappings = {\n",
        "        'first-name': ('name[0].given', lambda x: [x]),\n",
        "        'lastname': ('name[0].family', lambda x: x),\n",
        "        'sexatbirth': ('gender', lambda x: x.lower()),\n",
        "        'dob': ('birthDate', lambda x: x)  # Assuming the date is already in the correct format\n",
        "    }\n",
        "\n",
        "    # Apply mappings to set patient attributes\n",
        "    for linkId, code, value in extracted_answers:\n",
        "        if code in attribute_mappings:\n",
        "            attribute_path, transform = attribute_mappings[code]\n",
        "            # Using exec to set the attribute dynamically\n",
        "            exec(f\"patient.{attribute_path} = transform(value)\")\n",
        "\n",
        "    return patient\n",
        "\n",
        "def extract_answers_from_qr(questionnaire, response):\n",
        "    # Create a mapping from linkId to code from the Questionnaire\n",
        "    linkid_to_code = {item.linkId: next((code.code for code in item.code if code.code), None) for item in questionnaire.item}\n",
        "\n",
        "    extracted_values = []\n",
        "\n",
        "    # Iterate through each response item\n",
        "    for item in response.item:\n",
        "        linkId = item.linkId\n",
        "        code = linkid_to_code.get(linkId, 'Unknown Code')  # Get the code associated with the linkId, default to 'Unknown Code'\n",
        "        if item.answer:  # Ensure there is at least one answer\n",
        "            answer = item.answer[0]\n",
        "\n",
        "            # Directly extracting the value based on its type\n",
        "            value = None\n",
        "            if hasattr(answer, 'valueString') and answer.valueString is not None:\n",
        "                value = answer.valueString\n",
        "            elif hasattr(answer, 'valueCoding') and hasattr(answer.valueCoding, 'display') and answer.valueCoding.display is not None:\n",
        "                value = answer.valueCoding.display\n",
        "            elif hasattr(answer, 'valueDate') and answer.valueDate is not None:\n",
        "                value = answer.valueDate.isoformat()  # Convert date to string format if it's a datetime object\n",
        "\n",
        "            # Append the result as a tuple of (linkId, code, value)\n",
        "            if value is not None:\n",
        "                extracted_values.append((linkId, code, value))\n",
        "\n",
        "    return extracted_values\n",
        "\n",
        "def main():\n",
        "    questionnaire_file = 'q.json'\n",
        "    response_file = 'qr.json'\n",
        "\n",
        "    # Convert JSON files to FHIR resources\n",
        "    questionnaire, response = json_to_fhir(questionnaire_file, response_file)\n",
        "\n",
        "    # Extract answers with codes from QuestionnaireResponse\n",
        "    extracted_values = extract_answers_from_qr(questionnaire, response)\n",
        "\n",
        "    # Initialize the patient resource using extracted values\n",
        "    patient = instantiate_patient_from_answers(extracted_values)\n",
        "\n",
        "    # Output the populated patient resource\n",
        "    print(patient.json(indent=4))\n",
        "\n",
        "if __name__ == \"__main__\":\n",
        "    main()\n"
      ]
    },
    {
      "cell_type": "code",
      "source": [],
      "metadata": {
        "id": "HoTgdTQiBViV"
      },
      "execution_count": null,
      "outputs": []
    }
  ]
}